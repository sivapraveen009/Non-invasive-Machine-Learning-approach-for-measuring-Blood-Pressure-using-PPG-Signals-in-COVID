{
  "nbformat": 4,
  "nbformat_minor": 0,
  "metadata": {
    "accelerator": "GPU",
    "colab": {
      "name": "Model_finalising.ipynb",
      "provenance": []
    },
    "kernelspec": {
      "display_name": "Python 3",
      "language": "python",
      "name": "python3"
    },
    "language_info": {
      "codemirror_mode": {
        "name": "ipython",
        "version": 3
      },
      "file_extension": ".py",
      "mimetype": "text/x-python",
      "name": "python",
      "nbconvert_exporter": "python",
      "pygments_lexer": "ipython3",
      "version": "3.8.5"
    }
  },
  "cells": [
    {
      "cell_type": "code",
      "metadata": {
        "id": "kf3SiSeifc1b"
      },
      "source": [
        "import pandas as pd"
      ],
      "execution_count": 40,
      "outputs": []
    },
    {
      "cell_type": "code",
      "metadata": {
        "id": "2TuJNFfQgfrs"
      },
      "source": [
        "ppg_finalised_features=pd.read_csv('PPG_Finalised.csv')#Reading the ppg finalised dataset"
      ],
      "execution_count": 41,
      "outputs": []
    },
    {
      "cell_type": "code",
      "metadata": {
        "colab": {
          "base_uri": "https://localhost:8080/",
          "height": 266
        },
        "id": "WzY2hJETgkUY",
        "outputId": "e9092b84-3acc-47a4-c314-9755ec7a98fa"
      },
      "source": [
        "ppg_finalised_features.head()"
      ],
      "execution_count": 42,
      "outputs": [
        {
          "output_type": "execute_result",
          "data": {
            "text/html": [
              "<div>\n",
              "<style scoped>\n",
              "    .dataframe tbody tr th:only-of-type {\n",
              "        vertical-align: middle;\n",
              "    }\n",
              "\n",
              "    .dataframe tbody tr th {\n",
              "        vertical-align: top;\n",
              "    }\n",
              "\n",
              "    .dataframe thead th {\n",
              "        text-align: right;\n",
              "    }\n",
              "</style>\n",
              "<table border=\"1\" class=\"dataframe\">\n",
              "  <thead>\n",
              "    <tr style=\"text-align: right;\">\n",
              "      <th></th>\n",
              "      <th>Sex(M/F)</th>\n",
              "      <th>Age(year)</th>\n",
              "      <th>Height(cm)</th>\n",
              "      <th>Weight(kg)</th>\n",
              "      <th>Heart Rate(b/m)</th>\n",
              "      <th>BMI(kg/m^2)</th>\n",
              "      <th>Hypertension</th>\n",
              "      <th>0</th>\n",
              "      <th>1</th>\n",
              "      <th>2</th>\n",
              "      <th>3</th>\n",
              "      <th>4</th>\n",
              "      <th>5</th>\n",
              "      <th>6</th>\n",
              "      <th>7</th>\n",
              "      <th>8</th>\n",
              "      <th>9</th>\n",
              "      <th>10</th>\n",
              "      <th>11</th>\n",
              "      <th>12</th>\n",
              "      <th>13</th>\n",
              "      <th>14</th>\n",
              "      <th>15</th>\n",
              "      <th>16</th>\n",
              "      <th>17</th>\n",
              "      <th>18</th>\n",
              "      <th>19</th>\n",
              "      <th>20</th>\n",
              "      <th>21</th>\n",
              "      <th>22</th>\n",
              "    </tr>\n",
              "  </thead>\n",
              "  <tbody>\n",
              "    <tr>\n",
              "      <th>0</th>\n",
              "      <td>0</td>\n",
              "      <td>45</td>\n",
              "      <td>152</td>\n",
              "      <td>63</td>\n",
              "      <td>97</td>\n",
              "      <td>27.268006</td>\n",
              "      <td>Stage 2 hypertension</td>\n",
              "      <td>6.874442</td>\n",
              "      <td>-26.276675</td>\n",
              "      <td>13.268578</td>\n",
              "      <td>6.604219</td>\n",
              "      <td>-13.419384</td>\n",
              "      <td>-10.309675</td>\n",
              "      <td>1.460167</td>\n",
              "      <td>-4.973057</td>\n",
              "      <td>-5.168877</td>\n",
              "      <td>-2.865429</td>\n",
              "      <td>-2.842754</td>\n",
              "      <td>4.394693</td>\n",
              "      <td>4.481392</td>\n",
              "      <td>3.801316</td>\n",
              "      <td>-3.292828</td>\n",
              "      <td>-1.375442</td>\n",
              "      <td>2.333204</td>\n",
              "      <td>3.550070</td>\n",
              "      <td>-0.454649</td>\n",
              "      <td>-0.300077</td>\n",
              "      <td>-1.354707</td>\n",
              "      <td>-3.518339</td>\n",
              "      <td>-0.817157</td>\n",
              "    </tr>\n",
              "    <tr>\n",
              "      <th>1</th>\n",
              "      <td>0</td>\n",
              "      <td>50</td>\n",
              "      <td>157</td>\n",
              "      <td>50</td>\n",
              "      <td>76</td>\n",
              "      <td>20.284799</td>\n",
              "      <td>Stage 2 hypertension</td>\n",
              "      <td>5.159124</td>\n",
              "      <td>-2.502626</td>\n",
              "      <td>-6.762113</td>\n",
              "      <td>-4.462335</td>\n",
              "      <td>4.832346</td>\n",
              "      <td>-4.531561</td>\n",
              "      <td>-2.889399</td>\n",
              "      <td>0.477159</td>\n",
              "      <td>2.368463</td>\n",
              "      <td>1.272849</td>\n",
              "      <td>-1.995750</td>\n",
              "      <td>0.569276</td>\n",
              "      <td>-1.050329</td>\n",
              "      <td>0.887410</td>\n",
              "      <td>-0.015154</td>\n",
              "      <td>-0.238360</td>\n",
              "      <td>0.679078</td>\n",
              "      <td>-0.406106</td>\n",
              "      <td>1.120136</td>\n",
              "      <td>1.482796</td>\n",
              "      <td>-0.099423</td>\n",
              "      <td>-0.302771</td>\n",
              "      <td>1.489630</td>\n",
              "    </tr>\n",
              "    <tr>\n",
              "      <th>2</th>\n",
              "      <td>0</td>\n",
              "      <td>47</td>\n",
              "      <td>150</td>\n",
              "      <td>47</td>\n",
              "      <td>79</td>\n",
              "      <td>20.888889</td>\n",
              "      <td>Normal</td>\n",
              "      <td>6.847518</td>\n",
              "      <td>-0.656525</td>\n",
              "      <td>-6.195787</td>\n",
              "      <td>-2.688312</td>\n",
              "      <td>3.748400</td>\n",
              "      <td>-4.270678</td>\n",
              "      <td>-3.660029</td>\n",
              "      <td>1.816695</td>\n",
              "      <td>-0.057156</td>\n",
              "      <td>1.901490</td>\n",
              "      <td>-1.315155</td>\n",
              "      <td>-0.399230</td>\n",
              "      <td>-1.107734</td>\n",
              "      <td>1.545901</td>\n",
              "      <td>-0.621452</td>\n",
              "      <td>1.137124</td>\n",
              "      <td>-0.954881</td>\n",
              "      <td>0.087972</td>\n",
              "      <td>0.053862</td>\n",
              "      <td>0.633556</td>\n",
              "      <td>-0.083866</td>\n",
              "      <td>0.131694</td>\n",
              "      <td>-1.392140</td>\n",
              "    </tr>\n",
              "    <tr>\n",
              "      <th>3</th>\n",
              "      <td>1</td>\n",
              "      <td>45</td>\n",
              "      <td>172</td>\n",
              "      <td>65</td>\n",
              "      <td>87</td>\n",
              "      <td>21.971336</td>\n",
              "      <td>Prehypertension</td>\n",
              "      <td>1.323732</td>\n",
              "      <td>-21.503364</td>\n",
              "      <td>2.718157</td>\n",
              "      <td>-1.868950</td>\n",
              "      <td>-4.684047</td>\n",
              "      <td>5.366739</td>\n",
              "      <td>-6.550992</td>\n",
              "      <td>0.907731</td>\n",
              "      <td>3.427119</td>\n",
              "      <td>-0.614211</td>\n",
              "      <td>2.359187</td>\n",
              "      <td>-4.396649</td>\n",
              "      <td>-1.647784</td>\n",
              "      <td>0.347119</td>\n",
              "      <td>-2.086219</td>\n",
              "      <td>-1.842610</td>\n",
              "      <td>0.170575</td>\n",
              "      <td>0.180303</td>\n",
              "      <td>-2.153899</td>\n",
              "      <td>1.181756</td>\n",
              "      <td>-0.171474</td>\n",
              "      <td>-0.923647</td>\n",
              "      <td>0.402769</td>\n",
              "    </tr>\n",
              "    <tr>\n",
              "      <th>4</th>\n",
              "      <td>0</td>\n",
              "      <td>46</td>\n",
              "      <td>155</td>\n",
              "      <td>65</td>\n",
              "      <td>73</td>\n",
              "      <td>27.055151</td>\n",
              "      <td>Prehypertension</td>\n",
              "      <td>1.459466</td>\n",
              "      <td>0.432907</td>\n",
              "      <td>-9.537420</td>\n",
              "      <td>-0.906677</td>\n",
              "      <td>1.538733</td>\n",
              "      <td>-3.219885</td>\n",
              "      <td>-3.096710</td>\n",
              "      <td>2.559676</td>\n",
              "      <td>-2.406415</td>\n",
              "      <td>2.473865</td>\n",
              "      <td>0.254932</td>\n",
              "      <td>-2.116329</td>\n",
              "      <td>2.199281</td>\n",
              "      <td>-0.485608</td>\n",
              "      <td>0.304128</td>\n",
              "      <td>0.220050</td>\n",
              "      <td>0.087176</td>\n",
              "      <td>0.021992</td>\n",
              "      <td>-0.496049</td>\n",
              "      <td>-1.387934</td>\n",
              "      <td>-0.004746</td>\n",
              "      <td>-0.217980</td>\n",
              "      <td>1.494885</td>\n",
              "    </tr>\n",
              "  </tbody>\n",
              "</table>\n",
              "</div>"
            ],
            "text/plain": [
              "   Sex(M/F)  Age(year)  Height(cm)  ...        20        21        22\n",
              "0         0         45         152  ... -1.354707 -3.518339 -0.817157\n",
              "1         0         50         157  ... -0.099423 -0.302771  1.489630\n",
              "2         0         47         150  ... -0.083866  0.131694 -1.392140\n",
              "3         1         45         172  ... -0.171474 -0.923647  0.402769\n",
              "4         0         46         155  ... -0.004746 -0.217980  1.494885\n",
              "\n",
              "[5 rows x 30 columns]"
            ]
          },
          "metadata": {
            "tags": []
          },
          "execution_count": 42
        }
      ]
    },
    {
      "cell_type": "code",
      "metadata": {
        "colab": {
          "base_uri": "https://localhost:8080/"
        },
        "id": "VT8i1wm3gk-P",
        "outputId": "3fc215ca-d1df-4d95-a688-5c401e0918fc"
      },
      "source": [
        "len(ppg_finalised_features)"
      ],
      "execution_count": 43,
      "outputs": [
        {
          "output_type": "execute_result",
          "data": {
            "text/plain": [
              "628"
            ]
          },
          "metadata": {
            "tags": []
          },
          "execution_count": 43
        }
      ]
    },
    {
      "cell_type": "code",
      "metadata": {
        "id": "lZoBY60zgpry"
      },
      "source": [
        "X=ppg_finalised_features.drop(\"Hypertension\",axis=1)#independent features"
      ],
      "execution_count": 44,
      "outputs": []
    },
    {
      "cell_type": "code",
      "metadata": {
        "colab": {
          "base_uri": "https://localhost:8080/",
          "height": 232
        },
        "id": "7lCgoblIkb8T",
        "outputId": "41958aac-d5b4-4c36-d33d-415576e9dd11"
      },
      "source": [
        "X.head()"
      ],
      "execution_count": 45,
      "outputs": [
        {
          "output_type": "execute_result",
          "data": {
            "text/html": [
              "<div>\n",
              "<style scoped>\n",
              "    .dataframe tbody tr th:only-of-type {\n",
              "        vertical-align: middle;\n",
              "    }\n",
              "\n",
              "    .dataframe tbody tr th {\n",
              "        vertical-align: top;\n",
              "    }\n",
              "\n",
              "    .dataframe thead th {\n",
              "        text-align: right;\n",
              "    }\n",
              "</style>\n",
              "<table border=\"1\" class=\"dataframe\">\n",
              "  <thead>\n",
              "    <tr style=\"text-align: right;\">\n",
              "      <th></th>\n",
              "      <th>Sex(M/F)</th>\n",
              "      <th>Age(year)</th>\n",
              "      <th>Height(cm)</th>\n",
              "      <th>Weight(kg)</th>\n",
              "      <th>Heart Rate(b/m)</th>\n",
              "      <th>BMI(kg/m^2)</th>\n",
              "      <th>0</th>\n",
              "      <th>1</th>\n",
              "      <th>2</th>\n",
              "      <th>3</th>\n",
              "      <th>4</th>\n",
              "      <th>5</th>\n",
              "      <th>6</th>\n",
              "      <th>7</th>\n",
              "      <th>8</th>\n",
              "      <th>9</th>\n",
              "      <th>10</th>\n",
              "      <th>11</th>\n",
              "      <th>12</th>\n",
              "      <th>13</th>\n",
              "      <th>14</th>\n",
              "      <th>15</th>\n",
              "      <th>16</th>\n",
              "      <th>17</th>\n",
              "      <th>18</th>\n",
              "      <th>19</th>\n",
              "      <th>20</th>\n",
              "      <th>21</th>\n",
              "      <th>22</th>\n",
              "    </tr>\n",
              "  </thead>\n",
              "  <tbody>\n",
              "    <tr>\n",
              "      <th>0</th>\n",
              "      <td>0</td>\n",
              "      <td>45</td>\n",
              "      <td>152</td>\n",
              "      <td>63</td>\n",
              "      <td>97</td>\n",
              "      <td>27.268006</td>\n",
              "      <td>6.874442</td>\n",
              "      <td>-26.276675</td>\n",
              "      <td>13.268578</td>\n",
              "      <td>6.604219</td>\n",
              "      <td>-13.419384</td>\n",
              "      <td>-10.309675</td>\n",
              "      <td>1.460167</td>\n",
              "      <td>-4.973057</td>\n",
              "      <td>-5.168877</td>\n",
              "      <td>-2.865429</td>\n",
              "      <td>-2.842754</td>\n",
              "      <td>4.394693</td>\n",
              "      <td>4.481392</td>\n",
              "      <td>3.801316</td>\n",
              "      <td>-3.292828</td>\n",
              "      <td>-1.375442</td>\n",
              "      <td>2.333204</td>\n",
              "      <td>3.550070</td>\n",
              "      <td>-0.454649</td>\n",
              "      <td>-0.300077</td>\n",
              "      <td>-1.354707</td>\n",
              "      <td>-3.518339</td>\n",
              "      <td>-0.817157</td>\n",
              "    </tr>\n",
              "    <tr>\n",
              "      <th>1</th>\n",
              "      <td>0</td>\n",
              "      <td>50</td>\n",
              "      <td>157</td>\n",
              "      <td>50</td>\n",
              "      <td>76</td>\n",
              "      <td>20.284799</td>\n",
              "      <td>5.159124</td>\n",
              "      <td>-2.502626</td>\n",
              "      <td>-6.762113</td>\n",
              "      <td>-4.462335</td>\n",
              "      <td>4.832346</td>\n",
              "      <td>-4.531561</td>\n",
              "      <td>-2.889399</td>\n",
              "      <td>0.477159</td>\n",
              "      <td>2.368463</td>\n",
              "      <td>1.272849</td>\n",
              "      <td>-1.995750</td>\n",
              "      <td>0.569276</td>\n",
              "      <td>-1.050329</td>\n",
              "      <td>0.887410</td>\n",
              "      <td>-0.015154</td>\n",
              "      <td>-0.238360</td>\n",
              "      <td>0.679078</td>\n",
              "      <td>-0.406106</td>\n",
              "      <td>1.120136</td>\n",
              "      <td>1.482796</td>\n",
              "      <td>-0.099423</td>\n",
              "      <td>-0.302771</td>\n",
              "      <td>1.489630</td>\n",
              "    </tr>\n",
              "    <tr>\n",
              "      <th>2</th>\n",
              "      <td>0</td>\n",
              "      <td>47</td>\n",
              "      <td>150</td>\n",
              "      <td>47</td>\n",
              "      <td>79</td>\n",
              "      <td>20.888889</td>\n",
              "      <td>6.847518</td>\n",
              "      <td>-0.656525</td>\n",
              "      <td>-6.195787</td>\n",
              "      <td>-2.688312</td>\n",
              "      <td>3.748400</td>\n",
              "      <td>-4.270678</td>\n",
              "      <td>-3.660029</td>\n",
              "      <td>1.816695</td>\n",
              "      <td>-0.057156</td>\n",
              "      <td>1.901490</td>\n",
              "      <td>-1.315155</td>\n",
              "      <td>-0.399230</td>\n",
              "      <td>-1.107734</td>\n",
              "      <td>1.545901</td>\n",
              "      <td>-0.621452</td>\n",
              "      <td>1.137124</td>\n",
              "      <td>-0.954881</td>\n",
              "      <td>0.087972</td>\n",
              "      <td>0.053862</td>\n",
              "      <td>0.633556</td>\n",
              "      <td>-0.083866</td>\n",
              "      <td>0.131694</td>\n",
              "      <td>-1.392140</td>\n",
              "    </tr>\n",
              "    <tr>\n",
              "      <th>3</th>\n",
              "      <td>1</td>\n",
              "      <td>45</td>\n",
              "      <td>172</td>\n",
              "      <td>65</td>\n",
              "      <td>87</td>\n",
              "      <td>21.971336</td>\n",
              "      <td>1.323732</td>\n",
              "      <td>-21.503364</td>\n",
              "      <td>2.718157</td>\n",
              "      <td>-1.868950</td>\n",
              "      <td>-4.684047</td>\n",
              "      <td>5.366739</td>\n",
              "      <td>-6.550992</td>\n",
              "      <td>0.907731</td>\n",
              "      <td>3.427119</td>\n",
              "      <td>-0.614211</td>\n",
              "      <td>2.359187</td>\n",
              "      <td>-4.396649</td>\n",
              "      <td>-1.647784</td>\n",
              "      <td>0.347119</td>\n",
              "      <td>-2.086219</td>\n",
              "      <td>-1.842610</td>\n",
              "      <td>0.170575</td>\n",
              "      <td>0.180303</td>\n",
              "      <td>-2.153899</td>\n",
              "      <td>1.181756</td>\n",
              "      <td>-0.171474</td>\n",
              "      <td>-0.923647</td>\n",
              "      <td>0.402769</td>\n",
              "    </tr>\n",
              "    <tr>\n",
              "      <th>4</th>\n",
              "      <td>0</td>\n",
              "      <td>46</td>\n",
              "      <td>155</td>\n",
              "      <td>65</td>\n",
              "      <td>73</td>\n",
              "      <td>27.055151</td>\n",
              "      <td>1.459466</td>\n",
              "      <td>0.432907</td>\n",
              "      <td>-9.537420</td>\n",
              "      <td>-0.906677</td>\n",
              "      <td>1.538733</td>\n",
              "      <td>-3.219885</td>\n",
              "      <td>-3.096710</td>\n",
              "      <td>2.559676</td>\n",
              "      <td>-2.406415</td>\n",
              "      <td>2.473865</td>\n",
              "      <td>0.254932</td>\n",
              "      <td>-2.116329</td>\n",
              "      <td>2.199281</td>\n",
              "      <td>-0.485608</td>\n",
              "      <td>0.304128</td>\n",
              "      <td>0.220050</td>\n",
              "      <td>0.087176</td>\n",
              "      <td>0.021992</td>\n",
              "      <td>-0.496049</td>\n",
              "      <td>-1.387934</td>\n",
              "      <td>-0.004746</td>\n",
              "      <td>-0.217980</td>\n",
              "      <td>1.494885</td>\n",
              "    </tr>\n",
              "  </tbody>\n",
              "</table>\n",
              "</div>"
            ],
            "text/plain": [
              "   Sex(M/F)  Age(year)  Height(cm)  ...        20        21        22\n",
              "0         0         45         152  ... -1.354707 -3.518339 -0.817157\n",
              "1         0         50         157  ... -0.099423 -0.302771  1.489630\n",
              "2         0         47         150  ... -0.083866  0.131694 -1.392140\n",
              "3         1         45         172  ... -0.171474 -0.923647  0.402769\n",
              "4         0         46         155  ... -0.004746 -0.217980  1.494885\n",
              "\n",
              "[5 rows x 29 columns]"
            ]
          },
          "metadata": {
            "tags": []
          },
          "execution_count": 45
        }
      ]
    },
    {
      "cell_type": "code",
      "metadata": {
        "id": "V4KuTBBqkoco"
      },
      "source": [
        "Y=ppg_finalised_features['Hypertension']#dependent features"
      ],
      "execution_count": 46,
      "outputs": []
    },
    {
      "cell_type": "code",
      "metadata": {
        "colab": {
          "base_uri": "https://localhost:8080/"
        },
        "id": "3yx2P4gLkswg",
        "outputId": "ea811745-f30e-4fa2-ea23-9c0b1d66740d"
      },
      "source": [
        "Y.head()"
      ],
      "execution_count": 47,
      "outputs": [
        {
          "output_type": "execute_result",
          "data": {
            "text/plain": [
              "0    Stage 2 hypertension\n",
              "1    Stage 2 hypertension\n",
              "2                  Normal\n",
              "3         Prehypertension\n",
              "4         Prehypertension\n",
              "Name: Hypertension, dtype: object"
            ]
          },
          "metadata": {
            "tags": []
          },
          "execution_count": 47
        }
      ]
    },
    {
      "cell_type": "code",
      "metadata": {
        "id": "FVWGF6mtlBNf"
      },
      "source": [
        "params={\n",
        " \"learning_rate\"    : [0.001,0.01,0.02,0.05, 0.10, 0.15, 0.20, 0.25, 0.30 ] ,\n",
        " \"max_depth\"        : [ 3, 4, 5, 6, 8, 10, 12, 15],\n",
        " \"min_child_weight\" : [ 1, 3, 5, 7 ],\n",
        " \"gamma\"            : [ 0.0, 0.1, 0.2 , 0.3, 0.4 ],\n",
        " \"colsample_bytree\" : [ 0.3, 0.4, 0.5 , 0.7 ]\n",
        "    \n",
        "}"
      ],
      "execution_count": 48,
      "outputs": []
    },
    {
      "cell_type": "code",
      "metadata": {
        "colab": {
          "base_uri": "https://localhost:8080/"
        },
        "id": "7QTnWWnflWVJ",
        "outputId": "6782c9fd-357b-4d3a-9d8c-3e5cb3415de2"
      },
      "source": [
        "from sklearn.model_selection import RandomizedSearchCV, GridSearchCV\n",
        "import xgboost\n",
        "X.shape"
      ],
      "execution_count": 49,
      "outputs": [
        {
          "output_type": "execute_result",
          "data": {
            "text/plain": [
              "(628, 29)"
            ]
          },
          "metadata": {
            "tags": []
          },
          "execution_count": 49
        }
      ]
    },
    {
      "cell_type": "code",
      "metadata": {
        "id": "p51cLNanlYlY"
      },
      "source": [
        "classifier=xgboost.XGBClassifier()"
      ],
      "execution_count": 50,
      "outputs": []
    },
    {
      "cell_type": "code",
      "metadata": {
        "id": "8VvY1bRplfc3"
      },
      "source": [
        "random_search=RandomizedSearchCV(classifier,param_distributions=params,n_iter=5,scoring='recall_weighted',n_jobs=-1,cv=10,verbose=3)"
      ],
      "execution_count": 51,
      "outputs": []
    },
    {
      "cell_type": "code",
      "metadata": {
        "colab": {
          "base_uri": "https://localhost:8080/"
        },
        "id": "GjD2ACZXlinn",
        "outputId": "b3069aea-8a9b-4b19-cedb-a6ee60813c7e"
      },
      "source": [
        "random_search.fit(X,Y)"
      ],
      "execution_count": 52,
      "outputs": [
        {
          "output_type": "stream",
          "text": [
            "Fitting 10 folds for each of 5 candidates, totalling 50 fits\n"
          ],
          "name": "stdout"
        },
        {
          "output_type": "stream",
          "text": [
            "[Parallel(n_jobs=-1)]: Using backend LokyBackend with 2 concurrent workers.\n",
            "[Parallel(n_jobs=-1)]: Done  28 tasks      | elapsed:    7.7s\n",
            "[Parallel(n_jobs=-1)]: Done  50 out of  50 | elapsed:   15.1s finished\n"
          ],
          "name": "stderr"
        },
        {
          "output_type": "execute_result",
          "data": {
            "text/plain": [
              "RandomizedSearchCV(cv=10, error_score=nan,\n",
              "                   estimator=XGBClassifier(base_score=0.5, booster='gbtree',\n",
              "                                           colsample_bylevel=1,\n",
              "                                           colsample_bynode=1,\n",
              "                                           colsample_bytree=1, gamma=0,\n",
              "                                           learning_rate=0.1, max_delta_step=0,\n",
              "                                           max_depth=3, min_child_weight=1,\n",
              "                                           missing=None, n_estimators=100,\n",
              "                                           n_jobs=1, nthread=None,\n",
              "                                           objective='binary:logistic',\n",
              "                                           random_state=0, reg_alpha=0,\n",
              "                                           reg_lambda=1, s...\n",
              "                   iid='deprecated', n_iter=5, n_jobs=-1,\n",
              "                   param_distributions={'colsample_bytree': [0.3, 0.4, 0.5,\n",
              "                                                             0.7],\n",
              "                                        'gamma': [0.0, 0.1, 0.2, 0.3, 0.4],\n",
              "                                        'learning_rate': [0.001, 0.01, 0.02,\n",
              "                                                          0.05, 0.1, 0.15, 0.2,\n",
              "                                                          0.25, 0.3],\n",
              "                                        'max_depth': [3, 4, 5, 6, 8, 10, 12,\n",
              "                                                      15],\n",
              "                                        'min_child_weight': [1, 3, 5, 7]},\n",
              "                   pre_dispatch='2*n_jobs', random_state=None, refit=True,\n",
              "                   return_train_score=False, scoring='recall_weighted',\n",
              "                   verbose=3)"
            ]
          },
          "metadata": {
            "tags": []
          },
          "execution_count": 52
        }
      ]
    },
    {
      "cell_type": "code",
      "metadata": {
        "id": "BgjZRBF4mQlY"
      },
      "source": [
        "xgboost_best_estimator=random_search.best_estimator_"
      ],
      "execution_count": 53,
      "outputs": []
    },
    {
      "cell_type": "code",
      "metadata": {
        "colab": {
          "base_uri": "https://localhost:8080/"
        },
        "id": "HtA91b2Gp9Zg",
        "outputId": "5c9375c3-ca9c-4777-ad2e-fdb6cb34c170"
      },
      "source": [
        "random_search.best_params_"
      ],
      "execution_count": 54,
      "outputs": [
        {
          "output_type": "execute_result",
          "data": {
            "text/plain": [
              "{'colsample_bytree': 0.5,\n",
              " 'gamma': 0.4,\n",
              " 'learning_rate': 0.1,\n",
              " 'max_depth': 8,\n",
              " 'min_child_weight': 7}"
            ]
          },
          "metadata": {
            "tags": []
          },
          "execution_count": 54
        }
      ]
    },
    {
      "cell_type": "code",
      "metadata": {
        "id": "9ejeN9jRrK5p"
      },
      "source": [
        "classifier=xgboost.xgboost_best_estimator\n",
        "\n"
      ],
      "execution_count": 39,
      "outputs": []
    },
    {
      "cell_type": "code",
      "metadata": {
        "id": "rb7USwAmrTqY"
      },
      "source": [
        "from sklearn.model_selection import cross_val_score\n",
        "from sklearn.model_selection import RepeatedStratifiedKFold\n",
        "cv = RepeatedStratifiedKFold(n_splits=10, n_repeats=3, random_state=1)\n",
        "score=cross_val_score(classifier,X,Y,cv=cv)"
      ],
      "execution_count": 55,
      "outputs": []
    },
    {
      "cell_type": "code",
      "metadata": {
        "colab": {
          "base_uri": "https://localhost:8080/"
        },
        "id": "M4PU1rVArZnZ",
        "outputId": "88242e38-cc47-4f7c-a3ba-fd5965331844"
      },
      "source": [
        "score"
      ],
      "execution_count": 56,
      "outputs": [
        {
          "output_type": "execute_result",
          "data": {
            "text/plain": [
              "array([0.6984127 , 0.76190476, 0.85714286, 0.77777778, 0.87301587,\n",
              "       0.77777778, 0.80952381, 0.85714286, 0.79032258, 0.74193548,\n",
              "       0.76190476, 0.82539683, 0.82539683, 0.71428571, 0.82539683,\n",
              "       0.77777778, 0.77777778, 0.6984127 , 0.82258065, 0.79032258,\n",
              "       0.73015873, 0.79365079, 0.80952381, 0.74603175, 0.76190476,\n",
              "       0.73015873, 0.85714286, 0.88888889, 0.82258065, 0.72580645])"
            ]
          },
          "metadata": {
            "tags": []
          },
          "execution_count": 56
        }
      ]
    },
    {
      "cell_type": "code",
      "metadata": {
        "colab": {
          "base_uri": "https://localhost:8080/"
        },
        "id": "p9RQqS7orfXR",
        "outputId": "c6ee4514-4428-4a11-96ed-ac4322942614"
      },
      "source": [
        "score.mean()"
      ],
      "execution_count": 57,
      "outputs": [
        {
          "output_type": "execute_result",
          "data": {
            "text/plain": [
              "0.7876685441201572"
            ]
          },
          "metadata": {
            "tags": []
          },
          "execution_count": 57
        }
      ]
    },
    {
      "cell_type": "code",
      "metadata": {
        "id": "-LrSJ054rgZh"
      },
      "source": [
        "from sklearn.ensemble import GradientBoostingClassifier\n",
        "from sklearn.datasets import make_hastie_10_2"
      ],
      "execution_count": 58,
      "outputs": []
    },
    {
      "cell_type": "code",
      "metadata": {
        "id": "V7Iomehb-dow"
      },
      "source": [
        "parameters = {\n",
        "    \"n_estimators\":[5,50,100,150,200,250,500],\n",
        "    \"max_depth\":[i for i in range(50)],\n",
        "    \"learning_rate\":[0.15,0.1,0.05,0.01,0.005,0.001],\n",
        "      'max_depth':[i for i in range(20)],  'max_leaf_nodes':[i for i in range(50)]\n",
        "\n",
        "}"
      ],
      "execution_count": 59,
      "outputs": []
    },
    {
      "cell_type": "code",
      "metadata": {
        "id": "XhAAa_U8DNpb"
      },
      "source": [
        "clf = GradientBoostingClassifier()"
      ],
      "execution_count": 60,
      "outputs": []
    },
    {
      "cell_type": "code",
      "metadata": {
        "id": "IeLzGeCfCrKi"
      },
      "source": [
        "random_search=RandomizedSearchCV(clf,param_distributions=parameters,n_iter=5,scoring='recall_weighted',n_jobs=-1,cv=10,verbose=3)"
      ],
      "execution_count": 61,
      "outputs": []
    },
    {
      "cell_type": "code",
      "metadata": {
        "colab": {
          "base_uri": "https://localhost:8080/"
        },
        "id": "BqL9o25PCwvw",
        "outputId": "e899f52c-8aca-4f61-c395-0a7a8e3c8f30"
      },
      "source": [
        "random_search.fit(X,Y)"
      ],
      "execution_count": 24,
      "outputs": [
        {
          "output_type": "stream",
          "text": [
            "Fitting 10 folds for each of 5 candidates, totalling 50 fits\n"
          ],
          "name": "stdout"
        },
        {
          "output_type": "stream",
          "text": [
            "[Parallel(n_jobs=-1)]: Using backend LokyBackend with 2 concurrent workers.\n",
            "[Parallel(n_jobs=-1)]: Done  28 tasks      | elapsed:  1.6min\n",
            "[Parallel(n_jobs=-1)]: Done  50 out of  50 | elapsed:  3.9min finished\n"
          ],
          "name": "stderr"
        },
        {
          "output_type": "execute_result",
          "data": {
            "text/plain": [
              "RandomizedSearchCV(cv=10, error_score=nan,\n",
              "                   estimator=GradientBoostingClassifier(ccp_alpha=0.0,\n",
              "                                                        criterion='friedman_mse',\n",
              "                                                        init=None,\n",
              "                                                        learning_rate=0.1,\n",
              "                                                        loss='deviance',\n",
              "                                                        max_depth=3,\n",
              "                                                        max_features=None,\n",
              "                                                        max_leaf_nodes=None,\n",
              "                                                        min_impurity_decrease=0.0,\n",
              "                                                        min_impurity_split=None,\n",
              "                                                        min_samples_leaf=1,\n",
              "                                                        min_samples_split=2,\n",
              "                                                        min_weight_fraction_leaf=0.0,\n",
              "                                                        n_estimators=100,\n",
              "                                                        n_it...\n",
              "                   param_distributions={'learning_rate': [0.15, 0.1, 0.05, 0.01,\n",
              "                                                          0.005, 0.001],\n",
              "                                        'max_depth': [0, 1, 2, 3, 4, 5, 6, 7, 8,\n",
              "                                                      9, 10, 11, 12, 13, 14, 15,\n",
              "                                                      16, 17, 18, 19],\n",
              "                                        'max_leaf_nodes': [0, 1, 2, 3, 4, 5, 6,\n",
              "                                                           7, 8, 9, 10, 11, 12,\n",
              "                                                           13, 14, 15, 16, 17,\n",
              "                                                           18, 19, 20, 21, 22,\n",
              "                                                           23, 24, 25, 26, 27,\n",
              "                                                           28, 29, ...],\n",
              "                                        'n_estimators': [5, 50, 100, 150, 200,\n",
              "                                                         250, 500]},\n",
              "                   pre_dispatch='2*n_jobs', random_state=None, refit=True,\n",
              "                   return_train_score=False, scoring='recall_weighted',\n",
              "                   verbose=3)"
            ]
          },
          "metadata": {
            "tags": []
          },
          "execution_count": 24
        }
      ]
    },
    {
      "cell_type": "code",
      "metadata": {
        "colab": {
          "base_uri": "https://localhost:8080/"
        },
        "id": "jl4SsZu_C7Fl",
        "outputId": "1b6d2661-9b1c-41ca-880e-5f6eec5d44bf"
      },
      "source": [
        "gradientboost_best_estimator=random_search.best_estimator_"
      ],
      "execution_count": 25,
      "outputs": [
        {
          "output_type": "execute_result",
          "data": {
            "text/plain": [
              "GradientBoostingClassifier(ccp_alpha=0.0, criterion='friedman_mse', init=None,\n",
              "                           learning_rate=0.1, loss='deviance', max_depth=9,\n",
              "                           max_features=None, max_leaf_nodes=20,\n",
              "                           min_impurity_decrease=0.0, min_impurity_split=None,\n",
              "                           min_samples_leaf=1, min_samples_split=2,\n",
              "                           min_weight_fraction_leaf=0.0, n_estimators=200,\n",
              "                           n_iter_no_change=None, presort='deprecated',\n",
              "                           random_state=None, subsample=1.0, tol=0.0001,\n",
              "                           validation_fraction=0.1, verbose=0,\n",
              "                           warm_start=False)"
            ]
          },
          "metadata": {
            "tags": []
          },
          "execution_count": 25
        }
      ]
    },
    {
      "cell_type": "code",
      "metadata": {
        "id": "afE41rtkMGEe"
      },
      "source": [
        "clf = gradientboost_best_estimator\n"
      ],
      "execution_count": 26,
      "outputs": []
    },
    {
      "cell_type": "code",
      "metadata": {
        "id": "XMxDv9MYCwNz"
      },
      "source": [
        "from sklearn.model_selection import cross_val_score\n",
        "from sklearn.model_selection import RepeatedStratifiedKFold\n",
        "cv = RepeatedStratifiedKFold(n_splits=10, n_repeats=3, random_state=1)\n",
        "score=cross_val_score(clf,X,Y,cv=cv)"
      ],
      "execution_count": 27,
      "outputs": []
    },
    {
      "cell_type": "code",
      "metadata": {
        "colab": {
          "base_uri": "https://localhost:8080/"
        },
        "id": "8--4zSOwE7Xs",
        "outputId": "12f21d12-1461-46aa-eddf-264186ec77b9"
      },
      "source": [
        "score"
      ],
      "execution_count": 28,
      "outputs": [
        {
          "output_type": "execute_result",
          "data": {
            "text/plain": [
              "array([0.76190476, 0.79365079, 0.87301587, 0.88888889, 0.92063492,\n",
              "       0.84126984, 0.82539683, 0.88888889, 0.80645161, 0.83870968,\n",
              "       0.84126984, 0.85714286, 0.85714286, 0.77777778, 0.88888889,\n",
              "       0.88888889, 0.84126984, 0.84126984, 0.88709677, 0.79032258,\n",
              "       0.76190476, 0.88888889, 0.93650794, 0.88888889, 0.82539683,\n",
              "       0.80952381, 0.88888889, 0.92063492, 0.79032258, 0.77419355])"
            ]
          },
          "metadata": {
            "tags": []
          },
          "execution_count": 28
        }
      ]
    },
    {
      "cell_type": "code",
      "metadata": {
        "colab": {
          "base_uri": "https://localhost:8080/"
        },
        "id": "Kjrty_8oE5x-",
        "outputId": "4c58fd91-f90b-4a33-d648-0be4208832cc"
      },
      "source": [
        "score.mean()"
      ],
      "execution_count": 29,
      "outputs": [
        {
          "output_type": "execute_result",
          "data": {
            "text/plain": [
              "0.8465011094043351"
            ]
          },
          "metadata": {
            "tags": []
          },
          "execution_count": 29
        }
      ]
    },
    {
      "cell_type": "code",
      "metadata": {
        "id": "XJRCmWE_Hd17"
      },
      "source": [
        "import numpy as np\n",
        "# Number of trees in random forest\n",
        "n_estimators = [int(x) for x in np.linspace(start = 200, stop = 2000, num = 10)]\n",
        "# Number of features to consider at every split\n",
        "max_features = ['auto', 'sqrt','log2']\n",
        "# Maximum number of levels in tree\n",
        "max_depth = [int(x) for x in np.linspace(5, 1000,10)]\n",
        "# Minimum number of samples required to split a node\n",
        "min_samples_split = [2, 5, 10,14]\n",
        "# Minimum number of samples required at each leaf node\n",
        "min_samples_leaf = [1, 2, 4,6,8]\n",
        "# Create the random grid\n",
        "random_grid = {'n_estimators': n_estimators,\n",
        "               'max_features': max_features,\n",
        "               'max_depth': max_depth,\n",
        "               'min_samples_split': min_samples_split,\n",
        "               'min_samples_leaf': min_samples_leaf,\n",
        "              'criterion':['entropy','gini']}"
      ],
      "execution_count": 30,
      "outputs": []
    },
    {
      "cell_type": "code",
      "metadata": {
        "id": "_4yGChRgI5fS"
      },
      "source": [
        "from sklearn.ensemble import RandomForestClassifier\n",
        "rf=RandomForestClassifier()"
      ],
      "execution_count": 31,
      "outputs": []
    },
    {
      "cell_type": "code",
      "metadata": {
        "id": "nGfkvA1PIna8"
      },
      "source": [
        "random_search=RandomizedSearchCV(rf,param_distributions=random_grid,n_iter=5,scoring='recall_weighted',n_jobs=-1,cv=10,verbose=3)"
      ],
      "execution_count": 32,
      "outputs": []
    },
    {
      "cell_type": "code",
      "metadata": {
        "colab": {
          "base_uri": "https://localhost:8080/"
        },
        "id": "CqDMWD_pJH6n",
        "outputId": "57bd528d-a1ac-410b-a193-eb1f7d86c729"
      },
      "source": [
        "random_search.fit(X,Y)"
      ],
      "execution_count": 33,
      "outputs": [
        {
          "output_type": "stream",
          "text": [
            "Fitting 10 folds for each of 5 candidates, totalling 50 fits\n"
          ],
          "name": "stdout"
        },
        {
          "output_type": "stream",
          "text": [
            "[Parallel(n_jobs=-1)]: Using backend LokyBackend with 2 concurrent workers.\n",
            "[Parallel(n_jobs=-1)]: Done  28 tasks      | elapsed:  1.2min\n",
            "[Parallel(n_jobs=-1)]: Done  50 out of  50 | elapsed:  2.0min finished\n"
          ],
          "name": "stderr"
        },
        {
          "output_type": "execute_result",
          "data": {
            "text/plain": [
              "RandomizedSearchCV(cv=10, error_score=nan,\n",
              "                   estimator=RandomForestClassifier(bootstrap=True,\n",
              "                                                    ccp_alpha=0.0,\n",
              "                                                    class_weight=None,\n",
              "                                                    criterion='gini',\n",
              "                                                    max_depth=None,\n",
              "                                                    max_features='auto',\n",
              "                                                    max_leaf_nodes=None,\n",
              "                                                    max_samples=None,\n",
              "                                                    min_impurity_decrease=0.0,\n",
              "                                                    min_impurity_split=None,\n",
              "                                                    min_samples_leaf=1,\n",
              "                                                    min_samples_split=2,\n",
              "                                                    min_weight_fraction_leaf=0.0,\n",
              "                                                    n_estimators=100,\n",
              "                                                    n_job...\n",
              "                   param_distributions={'criterion': ['entropy', 'gini'],\n",
              "                                        'max_depth': [5, 115, 226, 336, 447,\n",
              "                                                      557, 668, 778, 889,\n",
              "                                                      1000],\n",
              "                                        'max_features': ['auto', 'sqrt',\n",
              "                                                         'log2'],\n",
              "                                        'min_samples_leaf': [1, 2, 4, 6, 8],\n",
              "                                        'min_samples_split': [2, 5, 10, 14],\n",
              "                                        'n_estimators': [200, 400, 600, 800,\n",
              "                                                         1000, 1200, 1400, 1600,\n",
              "                                                         1800, 2000]},\n",
              "                   pre_dispatch='2*n_jobs', random_state=None, refit=True,\n",
              "                   return_train_score=False, scoring='recall_weighted',\n",
              "                   verbose=3)"
            ]
          },
          "metadata": {
            "tags": []
          },
          "execution_count": 33
        }
      ]
    },
    {
      "cell_type": "code",
      "metadata": {
        "colab": {
          "base_uri": "https://localhost:8080/"
        },
        "id": "AZ6kFlwmLHmq",
        "outputId": "50742729-2fed-4cd3-c159-6ee42ee1b4b2"
      },
      "source": [
        "randomforest_best_estimator=random_search.best_estimator_"
      ],
      "execution_count": 34,
      "outputs": [
        {
          "output_type": "execute_result",
          "data": {
            "text/plain": [
              "RandomForestClassifier(bootstrap=True, ccp_alpha=0.0, class_weight=None,\n",
              "                       criterion='entropy', max_depth=557, max_features='auto',\n",
              "                       max_leaf_nodes=None, max_samples=None,\n",
              "                       min_impurity_decrease=0.0, min_impurity_split=None,\n",
              "                       min_samples_leaf=1, min_samples_split=2,\n",
              "                       min_weight_fraction_leaf=0.0, n_estimators=800,\n",
              "                       n_jobs=None, oob_score=False, random_state=None,\n",
              "                       verbose=0, warm_start=False)"
            ]
          },
          "metadata": {
            "tags": []
          },
          "execution_count": 34
        }
      ]
    },
    {
      "cell_type": "code",
      "metadata": {
        "id": "G5w8J3HbLSBx"
      },
      "source": [
        "rf=randomforest_best_estimator"
      ],
      "execution_count": 35,
      "outputs": []
    },
    {
      "cell_type": "code",
      "metadata": {
        "id": "gYK-FpBnLZJ5"
      },
      "source": [
        "cv = RepeatedStratifiedKFold(n_splits=10, n_repeats=3, random_state=1)\n",
        "score=cross_val_score(rf,X,Y,cv=cv)"
      ],
      "execution_count": 36,
      "outputs": []
    },
    {
      "cell_type": "code",
      "metadata": {
        "colab": {
          "base_uri": "https://localhost:8080/"
        },
        "id": "E--EsSg4LdYw",
        "outputId": "67723f6e-5bbf-4bfb-d1be-178771c97fdf"
      },
      "source": [
        "score"
      ],
      "execution_count": 37,
      "outputs": [
        {
          "output_type": "execute_result",
          "data": {
            "text/plain": [
              "array([0.73015873, 0.74603175, 0.9047619 , 0.84126984, 0.9047619 ,\n",
              "       0.84126984, 0.76190476, 0.87301587, 0.80645161, 0.85483871,\n",
              "       0.84126984, 0.79365079, 0.85714286, 0.76190476, 0.88888889,\n",
              "       0.82539683, 0.80952381, 0.77777778, 0.82258065, 0.77419355,\n",
              "       0.76190476, 0.85714286, 0.87301587, 0.80952381, 0.84126984,\n",
              "       0.77777778, 0.79365079, 0.85714286, 0.82258065, 0.72580645])"
            ]
          },
          "metadata": {
            "tags": []
          },
          "execution_count": 37
        }
      ]
    },
    {
      "cell_type": "code",
      "metadata": {
        "colab": {
          "base_uri": "https://localhost:8080/"
        },
        "id": "9P3EIeCTLeZZ",
        "outputId": "c3ec838b-1997-46af-f5ba-dd1b1a6d29d8"
      },
      "source": [
        "score.mean()"
      ],
      "execution_count": 38,
      "outputs": [
        {
          "output_type": "execute_result",
          "data": {
            "text/plain": [
              "0.8178870114353988"
            ]
          },
          "metadata": {
            "tags": []
          },
          "execution_count": 38
        }
      ]
    }
  ]
}